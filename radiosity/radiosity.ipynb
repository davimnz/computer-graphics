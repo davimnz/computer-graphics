{
 "cells": [
  {
   "cell_type": "code",
   "execution_count": 162,
   "metadata": {},
   "outputs": [],
   "source": [
    "import numpy as np\n",
    "\n",
    "import xml.etree.ElementTree as ElementTree"
   ]
  },
  {
   "cell_type": "markdown",
   "metadata": {},
   "source": [
    "`triangle_area` evaluates the triangle area $A$ using Heron's formula:\n",
    "\n",
    "$$ A = \\sqrt{s (s-a) (s-b) (s-c)} \\ , $$\n",
    "where $s$ is the semi-perimeter, $a$ is the length of side a, $b$ is the length of side b, and $c$ is the length of side c."
   ]
  },
  {
   "cell_type": "code",
   "execution_count": 163,
   "metadata": {},
   "outputs": [],
   "source": [
    "def triangle_area(vertices):\n",
    "    \"\"\"\n",
    "    Returns the triangle's area.\n",
    "\n",
    "    :param vertices: the vertices of the triangle.\n",
    "    :type vertices: two-dimensional array.\n",
    "    :return: the triangle area.\n",
    "    :return type: float.\n",
    "    \"\"\"\n",
    "    a = np.linalg.norm(vertices[1] - vertices[0])\n",
    "    b = np.linalg.norm(vertices[2] - vertices[1])\n",
    "    c = np.linalg.norm(vertices[0] - vertices[2])\n",
    "    semiperimeter = (a + b + c) * 0.5\n",
    "    area = np.sqrt(semiperimeter * (semiperimeter - a) * (semiperimeter - b) * (semiperimeter - c))\n",
    "    return area"
   ]
  },
  {
   "cell_type": "markdown",
   "metadata": {},
   "source": [
    "`triangle_centroid` evaluates the centroid $C$ of the triangular face following\n",
    "\n",
    "$$C = \\frac{v_a + v_b + v_c}{3} \\ , $$\n",
    "where $v_a$, $v_b$, and $v_c$ are the triangle's vertices."
   ]
  },
  {
   "cell_type": "code",
   "execution_count": 164,
   "metadata": {},
   "outputs": [],
   "source": [
    "def triangle_centroid(vertices):\n",
    "    \"\"\"\n",
    "    Returns the triangle's centroid.\n",
    "\n",
    "    :param vertices: the vertices of the triangle.\n",
    "    :type vertices: two-dimensional array.\n",
    "    :return: the triangle's centroid.\n",
    "    :return type: one-dimensional array with 3 columns.\n",
    "    \"\"\"\n",
    "    centroid = (vertices[0] + vertices[1] + vertices[2]) / 3\n",
    "    return centroid"
   ]
  },
  {
   "cell_type": "markdown",
   "metadata": {},
   "source": [
    "`triangle_normal` evaluates the face normal of a triangle of vertices $v_a$, $v_b$, and $v_c$ following\n",
    "\n",
    "$$n = (v_b - v_a) \\times (v_c - v_a) \\ , $$\n",
    "where $\\times$ represents a cross product."
   ]
  },
  {
   "cell_type": "code",
   "execution_count": 165,
   "metadata": {},
   "outputs": [],
   "source": [
    "def triangle_normal(vertices):\n",
    "    \"\"\"\n",
    "    Returns the face normal of a triangle.\n",
    "\n",
    "    :param vertices: the vertices of the triangle.\n",
    "    :type vertices: two-dimensional array.\n",
    "    :return: the triangle's normal.\n",
    "    :return type: one-dimensional array with 3 columns.\n",
    "    \"\"\"\n",
    "    side_x = vertices[1] - vertices[0]\n",
    "    side_y = vertices[2] - vertices[0]\n",
    "    normal = np.cross(side_x, side_y)\n",
    "    return normal"
   ]
  },
  {
   "cell_type": "markdown",
   "metadata": {},
   "source": [
    "`triangle_plane` evaluates the plane defined by the three vertices of a triangle."
   ]
  },
  {
   "cell_type": "code",
   "execution_count": 166,
   "metadata": {},
   "outputs": [],
   "source": [
    "def triangle_plane(vertices):\n",
    "    \"\"\"\n",
    "    Returns the plane defined by vertices.\n",
    "\n",
    "    :param vertices: the vertices of the triangle.\n",
    "    :type vertices: two-dimensional array.\n",
    "    :return: the triangle's plane.\n",
    "    :return type: one-dimensional array with 4 columns.\n",
    "    \"\"\"\n",
    "    pass"
   ]
  },
  {
   "cell_type": "markdown",
   "metadata": {},
   "source": [
    "`check_visibility` verifies if a plane still allow the two faces to see each other."
   ]
  },
  {
   "cell_type": "code",
   "execution_count": 167,
   "metadata": {},
   "outputs": [],
   "source": [
    "def check_visibility(centroid_a, centroid_b, plane):\n",
    "    \"\"\"\n",
    "    Returns true if the plane still allow the two faces to see each other.\n",
    "\n",
    "    :param centroid_a: the centroid of face a.\n",
    "    :type centroid_a: one-dimensional array with three columns.\n",
    "    :param centroid_b: the centroid of face b.\n",
    "    :type centroid_b: one-dimensional array with three columns.\n",
    "    :param plane: the plane that may be between face a and face b.\n",
    "    :type plane: one-dimensional array with 4 columns.\n",
    "    :return: true if the two faces can see each other.\n",
    "    :return type: bool.\n",
    "    \"\"\"\n",
    "    pass"
   ]
  },
  {
   "cell_type": "markdown",
   "metadata": {},
   "source": [
    "Testing the previous functions."
   ]
  },
  {
   "cell_type": "code",
   "execution_count": 168,
   "metadata": {},
   "outputs": [],
   "source": [
    "vertices_test = np.array([[0, 0, 0], [1, 0, 0], [0, 1, 0]])\n",
    "vertices_test_area = triangle_area(vertices_test)\n",
    "vertices_test_centroid = triangle_centroid(vertices_test)\n",
    "vertices_test_normal = triangle_normal(vertices_test)\n",
    "assert(vertices_test_area - 0.5 < 1e-9)\n",
    "assert(np.linalg.norm(vertices_test_centroid - np.array([1 / 3, 1 / 3, 0])) < 1e-9)\n",
    "assert(np.linalg.norm(vertices_test_normal - np.array([0, 0, 1])) < 1e-9)"
   ]
  },
  {
   "cell_type": "markdown",
   "metadata": {},
   "source": [
    "Classes definition."
   ]
  },
  {
   "cell_type": "code",
   "execution_count": 169,
   "metadata": {},
   "outputs": [],
   "source": [
    "class Solid(object):\n",
    "    \"\"\"\n",
    "    Represents a 3D solid.\n",
    "    \"\"\"\n",
    "\n",
    "    def __init__(self, faces, id):\n",
    "        \"\"\"\n",
    "        Creates a new 3 dimensional solid.        \n",
    "        \n",
    "        :param faces: the triangular faces of the solid.\n",
    "        :type faces: TriangularFace.\n",
    "        :param id: the solid's id.\n",
    "        :type id: string.\n",
    "        \"\"\"\n",
    "        self.faces = faces\n",
    "        self.id = id"
   ]
  },
  {
   "cell_type": "code",
   "execution_count": 193,
   "metadata": {},
   "outputs": [],
   "source": [
    "class TriangularFace(object):\n",
    "    \"\"\"\n",
    "    Represents a triangular face.\n",
    "    \"\"\"\n",
    "\n",
    "    def __init__(self, vertices, colors):\n",
    "        \"\"\"\n",
    "        Creates a new triangular face.\n",
    "\n",
    "        :param vertices: the triangle's vertices.\n",
    "        :type vertices: numpy array.\n",
    "        :param colors: the color of each vertice.\n",
    "        :type colors: numpy array.\n",
    "        \"\"\"\n",
    "        self.vertices = vertices\n",
    "        self.colors = colors\n",
    "        self.area = triangle_area(self.vertices)\n",
    "        self.centroid = triangle_centroid(self.vertices)\n",
    "        self.normal = triangle_normal(self.vertices)"
   ]
  },
  {
   "cell_type": "markdown",
   "metadata": {},
   "source": [
    "Parsing the COLLADA file with standard Python library to parse xml."
   ]
  },
  {
   "cell_type": "code",
   "execution_count": 194,
   "metadata": {},
   "outputs": [],
   "source": [
    "tree = ElementTree.parse('data/scene.dae')\n",
    "root = tree.getroot()"
   ]
  },
  {
   "cell_type": "markdown",
   "metadata": {},
   "source": [
    "Finding the library geometries section."
   ]
  },
  {
   "cell_type": "code",
   "execution_count": 195,
   "metadata": {},
   "outputs": [],
   "source": [
    "index = 0\n",
    "for child in root:\n",
    "    if \"library_geometries\" in child.tag:\n",
    "        library_geometries_index = index\n",
    "        break\n",
    "    index += 1\n",
    "library_geometries = root[library_geometries_index]"
   ]
  },
  {
   "cell_type": "markdown",
   "metadata": {},
   "source": [
    "Create Solid objects based on COLLADA data."
   ]
  },
  {
   "cell_type": "code",
   "execution_count": 196,
   "metadata": {},
   "outputs": [],
   "source": [
    "solid_scene = []\n",
    "for child in library_geometries:\n",
    "    id = child.attrib[\"id\"]\n",
    "    mesh_positions = None\n",
    "    mesh_colors = None\n",
    "    mesh_material = None\n",
    "    for child_geometry in child[0]:\n",
    "        if \"id\" in list(child_geometry.attrib.keys()):\n",
    "            if \"mesh-positions\" in child_geometry.attrib[\"id\"]:\n",
    "                mesh_positions = child_geometry\n",
    "            elif \"mesh-colors-Color\" in child_geometry.attrib[\"id\"]:\n",
    "                mesh_colors = child_geometry\n",
    "        elif \"material\" in list(child_geometry.attrib.keys()):\n",
    "            mesh_material = child_geometry\n",
    "\n",
    "    vertices_array = np.empty((0, 3), np.float64)\n",
    "    if mesh_positions is not None:\n",
    "        for child_mesh_positions in mesh_positions:\n",
    "            if \"id\" in list(child_mesh_positions.attrib.keys()):\n",
    "                if \"mesh-positions-array\" in child_mesh_positions.attrib[\"id\"]:\n",
    "                    values = child_mesh_positions.text.split(\" \")\n",
    "                    number_of_values = len(values)\n",
    "                    number_of_vertices = number_of_values // 3\n",
    "                    for i in range(number_of_vertices):\n",
    "                        x_coordinate = float(values[i * 3])\n",
    "                        y_coordinate = float(values[i * 3 + 1])\n",
    "                        z_coordinate = float(values[i * 3 + 2])\n",
    "                        vertices_array = np.append(vertices_array, np.array([[x_coordinate, y_coordinate, z_coordinate]]), axis=0)\n",
    "\n",
    "    face_colors_array = np.empty((0, 4), np.float64)\n",
    "    if mesh_colors is not None:\n",
    "        for child_mesh_colors in mesh_colors:\n",
    "            if \"id\" in list(child_mesh_colors.attrib.keys()):\n",
    "                if \"mesh-colors-Color-array\" in child_mesh_colors.attrib[\"id\"]:\n",
    "                    values = child_mesh_colors.text.split(\" \")\n",
    "                    number_of_values = len(values)\n",
    "                    number_of_faces = number_of_values // 12\n",
    "                    for i in range(number_of_faces):\n",
    "                        face_color = np.empty((0, 4), np.float64)\n",
    "                        for j in range(3):\n",
    "                            red = float(values[i * 4])\n",
    "                            green = float(values[i * 4 + 1])\n",
    "                            blue = float(values[i * 4 + 2])\n",
    "                            alpha = float(values[i * 4 + 3])\n",
    "                            face_color = np.append(face_color, np.array([[red, green, blue, alpha]]), axis=0)\n",
    "                        face_colors_array = np.append(face_colors_array, face_color, axis=0)\n",
    "\n",
    "    if mesh_material is not None:\n",
    "        number_of_triangles = int(mesh_material.attrib[\"count\"])\n",
    "        step = 0\n",
    "        for child_mesh_material in mesh_material:\n",
    "            if len(list(child_mesh_material.keys())) == 0:\n",
    "                faces_definition = child_mesh_material.text.split(\" \")\n",
    "                faces_list = []\n",
    "                for i in range(number_of_triangles):\n",
    "                    index_vertice_a = int(faces_definition[i * 3 * step])\n",
    "                    index_vertice_b = int(faces_definition[i * 3 * step + step])\n",
    "                    index_vertice_c = int(faces_definition[i * 3 * step + 2 * step])\n",
    "\n",
    "                    color_a = None\n",
    "                    color_b = None\n",
    "                    color_c = None\n",
    "                    if len(face_colors_array) != 0:\n",
    "                        index_color_a = int(faces_definition[i * 3 * step + step - 1])\n",
    "                        index_color_b = int(faces_definition[i * 3 * step + 2 * step - 1])\n",
    "                        index_color_c = int(faces_definition[i * 3 * step + 3 * step - 1])\n",
    "\n",
    "                        color_a = face_colors_array[index_color_a]\n",
    "                        color_b = face_colors_array[index_color_b]\n",
    "                        color_c = face_colors_array[index_color_c]\n",
    "\n",
    "                    vertice_a = vertices_array[index_vertice_a]\n",
    "                    vertice_b = vertices_array[index_vertice_b]\n",
    "                    vertice_c = vertices_array[index_vertice_c]\n",
    "\n",
    "                    vertices_face = np.array([vertice_a, vertice_b, vertice_c])\n",
    "                    colors_face = np.array([[color_a], [color_b], [color_c]])\n",
    "                    face = TriangularFace(vertices_face, colors_face)\n",
    "                    faces_list.append(face)\n",
    "            step += 1\n",
    "\n",
    "        solid = Solid(faces_list, id)\n",
    "        solid_scene.append(solid)"
   ]
  },
  {
   "cell_type": "code",
   "execution_count": 197,
   "metadata": {},
   "outputs": [
    {
     "data": {
      "text/plain": [
       "'Cube_002-mesh'"
      ]
     },
     "execution_count": 197,
     "metadata": {},
     "output_type": "execute_result"
    }
   ],
   "source": [
    "solid_scene[0].id"
   ]
  },
  {
   "cell_type": "code",
   "execution_count": null,
   "metadata": {},
   "outputs": [],
   "source": []
  }
 ],
 "metadata": {
  "kernelspec": {
   "display_name": "Python 3.8.10 ('env': venv)",
   "language": "python",
   "name": "python3"
  },
  "language_info": {
   "codemirror_mode": {
    "name": "ipython",
    "version": 3
   },
   "file_extension": ".py",
   "mimetype": "text/x-python",
   "name": "python",
   "nbconvert_exporter": "python",
   "pygments_lexer": "ipython3",
   "version": "3.8.10"
  },
  "orig_nbformat": 4,
  "vscode": {
   "interpreter": {
    "hash": "965367c8d116fe9b4ded1122d983f43bb17c3f36d42199ea56a843f12a41085b"
   }
  }
 },
 "nbformat": 4,
 "nbformat_minor": 2
}
