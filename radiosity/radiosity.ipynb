{
  "cells": [
    {
      "cell_type": "code",
      "source": [
        "from google.colab import drive\n",
        "drive.mount('/content/drive')"
      ],
      "metadata": {
        "colab": {
          "base_uri": "https://localhost:8080/"
        },
        "id": "fpUdxEOAZxjD",
        "outputId": "a566e6b8-ea0e-489a-a24b-2cd470cd7fd1"
      },
      "execution_count": null,
      "outputs": [
        {
          "output_type": "stream",
          "name": "stdout",
          "text": [
            "Mounted at /content/drive\n"
          ]
        }
      ]
    },
    {
      "cell_type": "code",
      "execution_count": null,
      "metadata": {
        "id": "_DJCxFcRZvQ_"
      },
      "outputs": [],
      "source": [
        "import pickle\n",
        "\n",
        "import numpy as np\n",
        "\n",
        "import xml.etree.ElementTree as ElementTree"
      ]
    },
    {
      "cell_type": "markdown",
      "metadata": {
        "id": "ZrHThx5zZvRB"
      },
      "source": [
        "`triangle_area` evaluates the triangle area $A$ using Heron's formula:\n",
        "\n",
        "$$ A = \\sqrt{s (s-a) (s-b) (s-c)} \\ , $$\n",
        "where $s$ is the semi-perimeter, $a$ is the length of side a, $b$ is the length of side b, and $c$ is the length of side c."
      ]
    },
    {
      "cell_type": "code",
      "execution_count": null,
      "metadata": {
        "id": "XL0CTHY5ZvRE"
      },
      "outputs": [],
      "source": [
        "def triangle_area(vertices):\n",
        "    \"\"\"\n",
        "    Returns the triangle's area.\n",
        "\n",
        "    :param vertices: the vertices of the triangle.\n",
        "    :type vertices: two-dimensional array.\n",
        "    :return: the triangle area.\n",
        "    :return type: float.\n",
        "    \"\"\"\n",
        "    a = np.linalg.norm(vertices[1] - vertices[0])\n",
        "    b = np.linalg.norm(vertices[2] - vertices[1])\n",
        "    c = np.linalg.norm(vertices[0] - vertices[2])\n",
        "    semiperimeter = (a + b + c) * 0.5\n",
        "    area = np.sqrt(semiperimeter * (semiperimeter - a) * (semiperimeter - b) * (semiperimeter - c))\n",
        "    return area"
      ]
    },
    {
      "cell_type": "markdown",
      "metadata": {
        "id": "6KnMsbW3ZvRG"
      },
      "source": [
        "`triangle_centroid` evaluates the centroid $C$ of the triangular face following\n",
        "\n",
        "$$C = \\frac{v_a + v_b + v_c}{3} \\ , $$\n",
        "where $v_a$, $v_b$, and $v_c$ are the triangle's vertices."
      ]
    },
    {
      "cell_type": "code",
      "execution_count": null,
      "metadata": {
        "id": "4F4jStRfZvRH"
      },
      "outputs": [],
      "source": [
        "def triangle_centroid(vertices):\n",
        "    \"\"\"\n",
        "    Returns the triangle's centroid.\n",
        "\n",
        "    :param vertices: the vertices of the triangle.\n",
        "    :type vertices: two-dimensional array.\n",
        "    :return: the triangle's centroid.\n",
        "    :return type: one-dimensional array with 3 columns.\n",
        "    \"\"\"\n",
        "    centroid = (vertices[0] + vertices[1] + vertices[2]) / 3\n",
        "    return centroid"
      ]
    },
    {
      "cell_type": "markdown",
      "metadata": {
        "id": "EemiMdEfZvRI"
      },
      "source": [
        "`triangle_normal` evaluates the face normal of a triangle of vertices $v_a$, $v_b$, and $v_c$ following\n",
        "\n",
        "$$n = (v_b - v_a) \\times (v_c - v_a) \\ , $$\n",
        "where $\\times$ represents a cross product."
      ]
    },
    {
      "cell_type": "code",
      "execution_count": null,
      "metadata": {
        "id": "vS-Gf443ZvRJ"
      },
      "outputs": [],
      "source": [
        "def triangle_normal(vertices):\n",
        "    \"\"\"\n",
        "    Returns the face normal of a triangle.\n",
        "\n",
        "    :param vertices: the vertices of the triangle.\n",
        "    :type vertices: two-dimensional array.\n",
        "    :return: the triangle's normal.\n",
        "    :return type: one-dimensional array with 3 columns.\n",
        "    \"\"\"\n",
        "    side_x = vertices[1] - vertices[0]\n",
        "    side_y = vertices[2] - vertices[0]\n",
        "    normal = np.cross(side_x, side_y)\n",
        "    return normal"
      ]
    },
    {
      "cell_type": "markdown",
      "metadata": {
        "id": "S20U1tv8ZvRK"
      },
      "source": [
        "`check_visibility` verifies if a plane still allow the two faces to see each other."
      ]
    },
    {
      "cell_type": "code",
      "execution_count": null,
      "metadata": {
        "id": "9I-utNcfZvRL"
      },
      "outputs": [],
      "source": [
        "def check_visibility(centroid_a, centroid_b, vertices_c):\n",
        "    \"\"\"\n",
        "    Returns true if the plane still allow the two faces to see each other.\n",
        "\n",
        "    :param centroid_a: the centroid of face a.\n",
        "    :type centroid_a: numpy array.\n",
        "    :param centroid_b: the centroid of face b.\n",
        "    :type centroid_b: numpy array.\n",
        "    :param vertices_c: the vertices of the triangle that may be between face a and face b.\n",
        "    :type vertices_c: numpy array.\n",
        "    :return: true if the two faces can see each other.\n",
        "    :return type: bool.\n",
        "    \"\"\"\n",
        "    b = centroid_b - vertices_c[2]\n",
        "    a = np.array([vertices_c[1] - vertices_c[2], vertices_c[0] - vertices_c[2], centroid_b - centroid_a]).transpose()\n",
        "    \n",
        "    if np.linalg.det(a) == 0:\n",
        "        return True\n",
        "    \n",
        "    x = np.linalg.solve(a, b)\n",
        "\n",
        "    inside_centroid_line = False\n",
        "    if x[2] >= 0 and x[2] <= 1:\n",
        "        inside_centroid_line = True\n",
        "\n",
        "    inside_triangle = False\n",
        "    if x[0] + x[1] <= 1 and x[0] >= 0 and x[1] >= 0:\n",
        "        inside_triangle = True\n",
        "\n",
        "    if inside_triangle and inside_centroid_line:\n",
        "        return False\n",
        "\n",
        "    return True"
      ]
    },
    {
      "cell_type": "markdown",
      "metadata": {
        "id": "8T5dyiEnZvRN"
      },
      "source": [
        "Testing the previous functions."
      ]
    },
    {
      "cell_type": "code",
      "execution_count": null,
      "metadata": {
        "id": "HTmLWOTeZvRO"
      },
      "outputs": [],
      "source": [
        "vertices_test = np.array([[0, 0, 0], [1, 0, 0], [0, 1, 0]])\n",
        "vertices_test_area = triangle_area(vertices_test)\n",
        "vertices_test_centroid = triangle_centroid(vertices_test)\n",
        "vertices_test_normal = triangle_normal(vertices_test)\n",
        "assert(vertices_test_area - 0.5 < 1e-9)\n",
        "assert(np.linalg.norm(vertices_test_centroid - np.array([1 / 3, 1 / 3, 0])) < 1e-9)\n",
        "assert(np.linalg.norm(vertices_test_normal - np.array([0, 0, 1])) < 1e-9)"
      ]
    },
    {
      "cell_type": "code",
      "execution_count": null,
      "metadata": {
        "id": "AYd_9SdLZvRP"
      },
      "outputs": [],
      "source": [
        "centroid_a = np.array([2 / 3, 2 / 3, 0])\n",
        "centroid_b = np.array([2 / 3, 2 / 3, 1])\n",
        "vertices_c1 = np.array([[1, 0, 1], [1, 1, 0], [0, 1, 1]])\n",
        "vertices_c2 = np.array([[1 / 3, 2 / 3, 1], [0, 0, 1], [0, 1, 1]])\n",
        "assert(check_visibility(centroid_a, centroid_b, vertices_c1) == False)\n",
        "assert(check_visibility(centroid_a, centroid_b, vertices_c2) == True)"
      ]
    },
    {
      "cell_type": "markdown",
      "metadata": {
        "id": "9bLsWLryZvRQ"
      },
      "source": [
        "Classes definition."
      ]
    },
    {
      "cell_type": "code",
      "execution_count": null,
      "metadata": {
        "id": "dQBXKdwFZvRQ"
      },
      "outputs": [],
      "source": [
        "class Solid(object):\n",
        "    \"\"\"\n",
        "    Represents a 3D solid.\n",
        "    \"\"\"\n",
        "\n",
        "    def __init__(self, faces, id):\n",
        "        \"\"\"\n",
        "        Creates a new 3 dimensional solid.        \n",
        "        \n",
        "        :param faces: the triangular faces of the solid.\n",
        "        :type faces: TriangularFace.\n",
        "        :param id: the solid's id.\n",
        "        :type id: string.\n",
        "        \"\"\"\n",
        "        self.faces = faces\n",
        "        self.id = id"
      ]
    },
    {
      "cell_type": "code",
      "execution_count": null,
      "metadata": {
        "id": "gNkT3p9EZvRR"
      },
      "outputs": [],
      "source": [
        "class TriangularFace(object):\n",
        "    \"\"\"\n",
        "    Represents a triangular face.\n",
        "    \"\"\"\n",
        "\n",
        "    def __init__(self, vertices, colors, light_source=0):\n",
        "        \"\"\"\n",
        "        Creates a new triangular face.\n",
        "\n",
        "        :param vertices: the triangle's vertices.\n",
        "        :type vertices: numpy array.\n",
        "        :param colors: the color of each vertice.\n",
        "        :type colors: numpy array.\n",
        "        :param light_source: if the face is a light source.\n",
        "        :type light_source: int {0, 1}.\n",
        "        \"\"\"\n",
        "        self.vertices = vertices\n",
        "        self.colors = colors\n",
        "        self.rho = np.sum(self.colors, axis=0) / len(self.colors)\n",
        "        self.area = triangle_area(self.vertices)\n",
        "        self.centroid = triangle_centroid(self.vertices)\n",
        "        self.normal = triangle_normal(self.vertices)\n",
        "        self.light_source = light_source"
      ]
    },
    {
      "cell_type": "markdown",
      "metadata": {
        "id": "91zpNoODZvRS"
      },
      "source": [
        "`form_factor` evaluates the form factor of faces $i$ and $j$ following\n",
        "\n",
        "$$F_{i, j} = \\frac{A_j \\cos{\\theta_i} \\cos{\\theta_j}}{\\pi r^{2}} \\ , $$\n",
        "where $r$ is the distance between the faces centroid, $A_j$ is the area of face $j$, $\\theta_i$ is the angle between the centroid line and the face $i$ normal, and $\\theta_j$ is the angle between the centroid line and the face $j$ normal. "
      ]
    },
    {
      "cell_type": "code",
      "execution_count": null,
      "metadata": {
        "id": "sNEYBkkzZvRS"
      },
      "outputs": [],
      "source": [
        "def form_factor(face_i, face_j, scene_faces):\n",
        "    \"\"\"\n",
        "    Evaluates the form factor of faces i and j, Fij.\n",
        "\n",
        "    :param face_i: the face i of the scene.\n",
        "    :type face_i: TriangularFace.\n",
        "    :param face_j: the face j of the scene.\n",
        "    :type face_j: TriangularFace.\n",
        "    :param scene_faces: all the faces in the scene.\n",
        "    :type scene_faces: list of TriangularFace.\n",
        "    \"\"\"\n",
        "    # Since we have convex solid, then Fii is always zero\n",
        "    if face_i == face_j:\n",
        "        return 0\n",
        "\n",
        "    if scene_faces is not None:\n",
        "        for face in scene_faces:\n",
        "            if face == face_i or face == face_j:\n",
        "                continue\n",
        "\n",
        "            is_visible = check_visibility(face_i.centroid, face_j.centroid, face.vertices)\n",
        "            if not is_visible:\n",
        "                form_factor = 0\n",
        "                return form_factor\n",
        "\n",
        "    centroid_line = face_i.centroid - face_j.centroid\n",
        "    centroid_line_unit = centroid_line / np.linalg.norm(centroid_line)\n",
        "    normal_i_unit = face_i.normal / np.linalg.norm(face_i.normal)\n",
        "    normal_j_unit = face_j.normal / np.linalg.norm(face_j.normal)    \n",
        "    theta_i = np.arccos(np.clip(np.dot(normal_i_unit, -centroid_line_unit), -1.0, 1.0))\n",
        "    theta_j = np.arccos(np.clip(np.dot(normal_j_unit, centroid_line_unit), -1.0, 1.0))\n",
        "\n",
        "    # The faces cannot see each other\n",
        "    if theta_i > np.pi * 0.5 or theta_j > np.pi * 0.5:\n",
        "        form_factor = 0\n",
        "        return form_factor\n",
        "\n",
        "    r = np.linalg.norm(centroid_line)\n",
        "    area_j = face_j.area\n",
        "    form_factor = (area_j * np.cos(theta_i) * np.cos(theta_j)) / (np.pi * r**2)\n",
        "    return form_factor"
      ]
    },
    {
      "cell_type": "markdown",
      "metadata": {
        "id": "g35jxj_cZvRT"
      },
      "source": [
        "Testing the previous function."
      ]
    },
    {
      "cell_type": "code",
      "execution_count": null,
      "metadata": {
        "id": "lLaklgsGZvRT"
      },
      "outputs": [],
      "source": [
        "vertices_i = np.array([[1, 0, 1], [1, 1, 0], [0, 0, 0]])\n",
        "vertices_j = np.array([[0, 0, 1], [0, 1, 0], [0, 1, 1]])\n",
        "colors = np.array([[1, 1, 1, 1], [1, 1, 1, 1], [1, 1, 1, 1], [1, 1, 1, 1]])\n",
        "face_i = TriangularFace(vertices_i, colors)\n",
        "face_j = TriangularFace(vertices_j, colors)\n",
        "assert(form_factor(face_i, face_j, None) - 0.1837 < 1e-4)"
      ]
    },
    {
      "cell_type": "code",
      "execution_count": null,
      "metadata": {
        "id": "2Ct1dRdUZvRU"
      },
      "outputs": [],
      "source": [
        "vertices_i = np.array([[0, 0, 0], [1, 0, 0], [0, 1, 0]])\n",
        "vertices_j = np.array([[0, 0, 1], [1, 0, 1], [0, 1, 1]])\n",
        "colors = np.array([[1, 1, 1, 1], [1, 1, 1, 1], [1, 1, 1, 1], [1, 1, 1, 1]])\n",
        "face_i = TriangularFace(vertices_i, colors)\n",
        "face_j = TriangularFace(vertices_j, colors)\n",
        "assert(form_factor(face_i, face_j, None) == 0)"
      ]
    },
    {
      "cell_type": "code",
      "execution_count": null,
      "metadata": {
        "id": "Soa4myydZvRU"
      },
      "outputs": [],
      "source": [
        "vertices_i = np.array([[0, 0, 0], [1, 0, 0], [0, 1, 0]])\n",
        "vertices_j = np.array([[1, 0, 1], [0, 0, 1], [0, 1, 1]])\n",
        "colors = np.array([[1, 1, 1, 1], [1, 1, 1, 1], [1, 1, 1, 1], [1, 1, 1, 1]])\n",
        "face_i = TriangularFace(vertices_i, colors)\n",
        "face_j = TriangularFace(vertices_j, colors)\n",
        "assert(form_factor(face_i, face_j, None) - (1 / (2*np.pi)) < 1e-4)"
      ]
    },
    {
      "cell_type": "markdown",
      "metadata": {
        "id": "Ti-I3XCbZvRU"
      },
      "source": [
        "Parsing the COLLADA file with standard Python library to parse xml."
      ]
    },
    {
      "cell_type": "code",
      "execution_count": null,
      "metadata": {
        "id": "spzW4IyJZvRU"
      },
      "outputs": [],
      "source": [
        "scene_path = \"/content/drive/My Drive/radiosity/scene.dae\"\n",
        "tree = ElementTree.parse(scene_path)\n",
        "root = tree.getroot()"
      ]
    },
    {
      "cell_type": "markdown",
      "metadata": {
        "id": "IUEdwypWZvRV"
      },
      "source": [
        "Finding the library geometries and the library visual scene sections."
      ]
    },
    {
      "cell_type": "code",
      "execution_count": null,
      "metadata": {
        "id": "2AWn3oT0ZvRV"
      },
      "outputs": [],
      "source": [
        "index = 0\n",
        "for child in root:\n",
        "    if \"library_geometries\" in child.tag:\n",
        "        library_geometries_index = index\n",
        "\n",
        "    if \"library_visual_scenes\" in child.tag:\n",
        "        library_visual_scenes_index = index\n",
        "\n",
        "    index += 1\n",
        "library_geometries = root[library_geometries_index]\n",
        "library_visual_scenes = root[library_visual_scenes_index]"
      ]
    },
    {
      "cell_type": "markdown",
      "metadata": {
        "id": "QPcJzh5BZvRW"
      },
      "source": [
        "Get transform matrix based on data of Library Visual Scene."
      ]
    },
    {
      "cell_type": "code",
      "execution_count": null,
      "metadata": {
        "id": "2fw3EsjOZvRW"
      },
      "outputs": [],
      "source": [
        "transform_matrix = {}\n",
        "for child in library_visual_scenes[0]:\n",
        "    for scene_child in child:\n",
        "        if \"sid\" in list(scene_child.attrib.keys()):\n",
        "            matrix = np.array(scene_child.text.split(\" \")).reshape((4, 4)).astype(np.float64)\n",
        "        \n",
        "        if \"url\" in list(scene_child.attrib.keys()):\n",
        "            mesh_name = scene_child.attrib[\"url\"].replace(\"#\", \"\")\n",
        "            transform_matrix[mesh_name] = matrix"
      ]
    },
    {
      "cell_type": "markdown",
      "metadata": {
        "id": "8cuJAioMZvRW"
      },
      "source": [
        "Create Solid objects based on COLLADA data."
      ]
    },
    {
      "cell_type": "code",
      "execution_count": null,
      "metadata": {
        "id": "FxwwJkzVZvRX"
      },
      "outputs": [],
      "source": [
        "solid_scene = []\n",
        "for child in library_geometries:\n",
        "    id = child.attrib[\"id\"]\n",
        "\n",
        "    if id == \"LightObject-mesh\":\n",
        "        light_source = True\n",
        "    else:\n",
        "        light_source = False\n",
        "\n",
        "    mesh_positions = None\n",
        "    mesh_colors = None\n",
        "    mesh_material = None\n",
        "    for child_geometry in child[0]:\n",
        "        if \"id\" in list(child_geometry.attrib.keys()):\n",
        "            if \"mesh-positions\" in child_geometry.attrib[\"id\"]:\n",
        "                mesh_positions = child_geometry\n",
        "            elif \"mesh-colors-Color\" in child_geometry.attrib[\"id\"]:\n",
        "                mesh_colors = child_geometry\n",
        "        elif \"material\" in list(child_geometry.attrib.keys()):\n",
        "            mesh_material = child_geometry\n",
        "\n",
        "    vertices_array = np.empty((0, 3), np.float64)\n",
        "    if mesh_positions is not None:\n",
        "        for child_mesh_positions in mesh_positions:\n",
        "            if \"id\" in list(child_mesh_positions.attrib.keys()):\n",
        "                if \"mesh-positions-array\" in child_mesh_positions.attrib[\"id\"]:\n",
        "                    values = child_mesh_positions.text.split(\" \")\n",
        "                    number_of_values = len(values)\n",
        "                    number_of_vertices = number_of_values // 3\n",
        "                    for i in range(number_of_vertices):\n",
        "                        x_coordinate = float(values[i * 3])\n",
        "                        y_coordinate = float(values[i * 3 + 1])\n",
        "                        z_coordinate = float(values[i * 3 + 2])\n",
        "                        coordinate = np.array([x_coordinate, y_coordinate, z_coordinate, 1])\n",
        "                        coordinate_world = transform_matrix[id] @ coordinate\n",
        "                        coordinate_world = coordinate_world[:3]\n",
        "                        vertices_array = np.append(vertices_array, np.array([[x_coordinate, y_coordinate, z_coordinate]]), axis=0)\n",
        "\n",
        "    face_colors_array = np.empty((0, 4), np.float64)\n",
        "    if mesh_colors is not None:\n",
        "        for child_mesh_colors in mesh_colors:\n",
        "            if \"id\" in list(child_mesh_colors.attrib.keys()):\n",
        "                if \"mesh-colors-Color-array\" in child_mesh_colors.attrib[\"id\"]:\n",
        "                    values = child_mesh_colors.text.split(\" \")\n",
        "                    number_of_values = len(values)\n",
        "                    number_of_faces = number_of_values // 12\n",
        "                    for i in range(number_of_faces):\n",
        "                        face_color = np.empty((0, 4), np.float64)\n",
        "                        for j in range(3):\n",
        "                            red = float(values[i * 4])\n",
        "                            green = float(values[i * 4 + 1])\n",
        "                            blue = float(values[i * 4 + 2])\n",
        "                            alpha = float(values[i * 4 + 3])\n",
        "                            face_color = np.append(face_color, np.array([[red, green, blue, alpha]]), axis=0)\n",
        "                        face_colors_array = np.append(face_colors_array, face_color, axis=0)\n",
        "\n",
        "    if mesh_material is not None:\n",
        "        number_of_triangles = int(mesh_material.attrib[\"count\"])\n",
        "        step = 0\n",
        "        for child_mesh_material in mesh_material:\n",
        "            if len(list(child_mesh_material.keys())) == 0:\n",
        "                faces_definition = child_mesh_material.text.split(\" \")\n",
        "                faces_list = []\n",
        "                for i in range(number_of_triangles):\n",
        "                    index_vertice_a = int(faces_definition[i * 3 * step])\n",
        "                    index_vertice_b = int(faces_definition[i * 3 * step + step])\n",
        "                    index_vertice_c = int(faces_definition[i * 3 * step + 2 * step])\n",
        "\n",
        "                    color_a = [0, 0, 0, 1]\n",
        "                    color_b = [0, 0, 0, 1]\n",
        "                    color_c = [0, 0, 0, 1]\n",
        "                    if len(face_colors_array) != 0:\n",
        "                        index_color_a = int(faces_definition[i * 3 * step + step - 1])\n",
        "                        index_color_b = int(faces_definition[i * 3 * step + 2 * step - 1])\n",
        "                        index_color_c = int(faces_definition[i * 3 * step + 3 * step - 1])\n",
        "\n",
        "                        color_a = face_colors_array[index_color_a]\n",
        "                        color_b = face_colors_array[index_color_b]\n",
        "                        color_c = face_colors_array[index_color_c]\n",
        "\n",
        "                    vertice_a = vertices_array[index_vertice_a]\n",
        "                    vertice_b = vertices_array[index_vertice_b]\n",
        "                    vertice_c = vertices_array[index_vertice_c]\n",
        "\n",
        "                    vertices_face = np.array([vertice_a, vertice_b, vertice_c])\n",
        "                    colors_face = np.array([[color_a], [color_b], [color_c]])\n",
        "                    face = TriangularFace(vertices_face, colors_face, light_source)\n",
        "                    faces_list.append(face)\n",
        "            step += 1\n",
        "\n",
        "        solid = Solid(faces_list, id)\n",
        "        solid_scene.append(solid)"
      ]
    },
    {
      "cell_type": "markdown",
      "metadata": {
        "id": "oiu32KrKZvRY"
      },
      "source": [
        "Evaluating the form factors $F_{ij}$."
      ]
    },
    {
      "cell_type": "code",
      "source": [
        "# Load objects\n",
        "with open(f\"/content/drive/My Drive/radiosity/form_factor_red.pickle\", 'rb') as handle:\n",
        "  form_factor_red = pickle.load(handle)\n",
        "\n",
        "with open(f\"/content/drive/My Drive/radiosity/form_factor_green.pickle\", 'rb') as handle:\n",
        "  form_factor_green = pickle.load(handle)\n",
        "\n",
        "with open(f\"/content/drive/My Drive/radiosity/form_factor_blue.pickle\", 'rb') as handle:\n",
        "  form_factor_blue = pickle.load(handle)\n",
        "\n",
        "with open(f\"/content/drive/My Drive/radiosity/emission_vector.pickle\", 'rb') as handle:\n",
        "  emission_vector = pickle.load(handle)"
      ],
      "metadata": {
        "id": "XwTRh7UQtnFd"
      },
      "execution_count": null,
      "outputs": []
    },
    {
      "cell_type": "code",
      "source": [
        "# Define indices\n",
        "# Last run: initial pos - 1900\n",
        "#           final pos - 2100\n",
        "INITIAL_POSITION=1900\n",
        "END_POSITION=2100"
      ],
      "metadata": {
        "id": "2DnKQP_Abeog"
      },
      "execution_count": null,
      "outputs": []
    },
    {
      "cell_type": "code",
      "execution_count": null,
      "metadata": {
        "colab": {
          "base_uri": "https://localhost:8080/"
        },
        "id": "blthHcxqZvRY",
        "outputId": "cb4f7f30-b2e8-4d02-b45d-1e85a73939e0"
      },
      "outputs": [
        {
          "output_type": "stream",
          "name": "stdout",
          "text": [
            "1900 / 2093\n",
            "1901 / 2093\n",
            "1902 / 2093\n",
            "1903 / 2093\n",
            "1904 / 2093\n",
            "1905 / 2093\n",
            "1906 / 2093\n",
            "1907 / 2093\n",
            "1908 / 2093\n",
            "1909 / 2093\n",
            "1910 / 2093\n",
            "1911 / 2093\n",
            "1912 / 2093\n",
            "1913 / 2093\n",
            "1914 / 2093\n",
            "1915 / 2093\n",
            "1916 / 2093\n",
            "1917 / 2093\n",
            "1918 / 2093\n",
            "1919 / 2093\n",
            "1920 / 2093\n",
            "1921 / 2093\n",
            "1922 / 2093\n",
            "1923 / 2093\n",
            "1924 / 2093\n",
            "1925 / 2093\n",
            "1926 / 2093\n",
            "1927 / 2093\n",
            "1928 / 2093\n",
            "1929 / 2093\n",
            "1930 / 2093\n",
            "1931 / 2093\n",
            "1932 / 2093\n",
            "1933 / 2093\n",
            "1934 / 2093\n",
            "1935 / 2093\n",
            "1936 / 2093\n",
            "1937 / 2093\n",
            "1938 / 2093\n",
            "1939 / 2093\n",
            "1940 / 2093\n",
            "1941 / 2093\n",
            "1942 / 2093\n",
            "1943 / 2093\n",
            "1944 / 2093\n",
            "1945 / 2093\n",
            "1946 / 2093\n",
            "1947 / 2093\n",
            "1948 / 2093\n",
            "1949 / 2093\n",
            "1950 / 2093\n",
            "1951 / 2093\n",
            "1952 / 2093\n",
            "1953 / 2093\n",
            "1954 / 2093\n",
            "1955 / 2093\n",
            "1956 / 2093\n",
            "1957 / 2093\n",
            "1958 / 2093\n",
            "1959 / 2093\n",
            "1960 / 2093\n",
            "1961 / 2093\n",
            "1962 / 2093\n",
            "1963 / 2093\n",
            "1964 / 2093\n",
            "1965 / 2093\n",
            "1966 / 2093\n",
            "1967 / 2093\n",
            "1968 / 2093\n",
            "1969 / 2093\n",
            "1970 / 2093\n",
            "1971 / 2093\n",
            "1972 / 2093\n",
            "1973 / 2093\n",
            "1974 / 2093\n",
            "1975 / 2093\n",
            "1976 / 2093\n",
            "1977 / 2093\n",
            "1978 / 2093\n",
            "1979 / 2093\n",
            "1980 / 2093\n",
            "1981 / 2093\n",
            "1982 / 2093\n",
            "1983 / 2093\n",
            "1984 / 2093\n",
            "1985 / 2093\n",
            "1986 / 2093\n",
            "1987 / 2093\n",
            "1988 / 2093\n",
            "1989 / 2093\n",
            "1990 / 2093\n",
            "1991 / 2093\n",
            "1992 / 2093\n",
            "1993 / 2093\n",
            "1994 / 2093\n",
            "1995 / 2093\n",
            "1996 / 2093\n",
            "1997 / 2093\n",
            "1998 / 2093\n",
            "1999 / 2093\n",
            "2000 / 2093\n",
            "2001 / 2093\n",
            "2002 / 2093\n",
            "2003 / 2093\n",
            "2004 / 2093\n",
            "2005 / 2093\n",
            "2006 / 2093\n",
            "2007 / 2093\n",
            "2008 / 2093\n",
            "2009 / 2093\n",
            "2010 / 2093\n",
            "2011 / 2093\n",
            "2012 / 2093\n",
            "2013 / 2093\n",
            "2014 / 2093\n",
            "2015 / 2093\n",
            "2016 / 2093\n",
            "2017 / 2093\n",
            "2018 / 2093\n",
            "2019 / 2093\n",
            "2020 / 2093\n",
            "2021 / 2093\n",
            "2022 / 2093\n",
            "2023 / 2093\n",
            "2024 / 2093\n",
            "2025 / 2093\n",
            "2026 / 2093\n",
            "2027 / 2093\n",
            "2028 / 2093\n",
            "2029 / 2093\n",
            "2030 / 2093\n",
            "2031 / 2093\n",
            "2032 / 2093\n",
            "2033 / 2093\n",
            "2034 / 2093\n",
            "2035 / 2093\n",
            "2036 / 2093\n",
            "2037 / 2093\n",
            "2038 / 2093\n",
            "2039 / 2093\n",
            "2040 / 2093\n",
            "2041 / 2093\n",
            "2042 / 2093\n",
            "2043 / 2093\n",
            "2044 / 2093\n",
            "2045 / 2093\n",
            "2046 / 2093\n",
            "2047 / 2093\n",
            "2048 / 2093\n",
            "2049 / 2093\n",
            "2050 / 2093\n",
            "2051 / 2093\n",
            "2052 / 2093\n",
            "2053 / 2093\n",
            "2054 / 2093\n",
            "2055 / 2093\n",
            "2056 / 2093\n",
            "2057 / 2093\n",
            "2058 / 2093\n",
            "2059 / 2093\n",
            "2060 / 2093\n",
            "2061 / 2093\n",
            "2062 / 2093\n",
            "2063 / 2093\n",
            "2064 / 2093\n",
            "2065 / 2093\n",
            "2066 / 2093\n",
            "2067 / 2093\n",
            "2068 / 2093\n",
            "2069 / 2093\n",
            "2070 / 2093\n",
            "2071 / 2093\n",
            "2072 / 2093\n",
            "2073 / 2093\n",
            "2074 / 2093\n",
            "2075 / 2093\n",
            "2076 / 2093\n",
            "2077 / 2093\n",
            "2078 / 2093\n",
            "2079 / 2093\n",
            "2080 / 2093\n",
            "2081 / 2093\n",
            "2082 / 2093\n",
            "2083 / 2093\n",
            "2084 / 2093\n",
            "2085 / 2093\n",
            "2086 / 2093\n",
            "2087 / 2093\n",
            "2088 / 2093\n",
            "2089 / 2093\n",
            "2090 / 2093\n",
            "2091 / 2093\n",
            "2092 / 2093\n",
            "2093 / 2093\n"
          ]
        }
      ],
      "source": [
        "scene_faces = []\n",
        "for solid in solid_scene:\n",
        "    scene_faces = [*scene_faces, *solid.faces]\n",
        "\n",
        "for i in range(INITIAL_POSITION, len(scene_faces)):\n",
        "    if i == END_POSITION:\n",
        "      break\n",
        "\n",
        "    print(f\"{i} / {len(scene_faces) - 1}\")\n",
        "    form_factor_i = np.array([])\n",
        "    for j in range(len(scene_faces)):\n",
        "        form_factor_i = np.append(form_factor_i, np.array([form_factor(scene_faces[i], scene_faces[j], scene_faces)]))\n",
        "    form_factor_red = np.append(form_factor_red, (-scene_faces[i].rho[0][0]) * form_factor_i)\n",
        "    form_factor_green = np.append(form_factor_green, (-scene_faces[i].rho[0][1]) * form_factor_i)\n",
        "    form_factor_blue = np.append(form_factor_blue, (-scene_faces[i].rho[0][2]) * form_factor_i)\n",
        "    emission_vector = np.append(emission_vector, int(scene_faces[i].light_source))"
      ]
    },
    {
      "cell_type": "code",
      "source": [
        "form_factor_red = np.identity(len(scene_faces)) - form_factor_red.reshape((len(scene_faces), len(scene_faces)))\n",
        "form_factor_green = np.identity(len(scene_faces)) - form_factor_green.reshape((len(scene_faces), len(scene_faces)))\n",
        "form_factor_blue = np.identity(len(scene_faces)) - form_factor_blue.reshape((len(scene_faces), len(scene_faces)))"
      ],
      "metadata": {
        "id": "6rsDWXoic3DU"
      },
      "execution_count": null,
      "outputs": []
    },
    {
      "cell_type": "markdown",
      "source": [
        "Solving the radiosity equation"
      ],
      "metadata": {
        "id": "3Q4Km_hj7Xhj"
      }
    },
    {
      "cell_type": "code",
      "source": [
        "np.unique(np.linalg.solve(form_factor_red, emission_vector))"
      ],
      "metadata": {
        "colab": {
          "base_uri": "https://localhost:8080/"
        },
        "id": "ZJfRiVEgWoYg",
        "outputId": "bd28fe49-4e59-4651-b530-304b38631f62"
      },
      "execution_count": null,
      "outputs": [
        {
          "output_type": "execute_result",
          "data": {
            "text/plain": [
              "array([0., 1.])"
            ]
          },
          "metadata": {},
          "execution_count": 73
        }
      ]
    },
    {
      "cell_type": "code",
      "source": [
        "np.unique(np.linalg.solve(form_factor_green, emission_vector))"
      ],
      "metadata": {
        "colab": {
          "base_uri": "https://localhost:8080/"
        },
        "id": "W8aOT0iVWy3o",
        "outputId": "3162e7be-2dc5-4e06-edd5-b50e56d21090"
      },
      "execution_count": null,
      "outputs": [
        {
          "output_type": "execute_result",
          "data": {
            "text/plain": [
              "array([0., 1.])"
            ]
          },
          "metadata": {},
          "execution_count": 72
        }
      ]
    },
    {
      "cell_type": "markdown",
      "source": [
        "The solution are only 0 or 1 values. In fact, $\\mathbf{B}$ equals to $\\mathbf{E}$ because the form factors are so small."
      ],
      "metadata": {
        "id": "qYUTD49S7d5L"
      }
    },
    {
      "cell_type": "code",
      "source": [
        "np.unique(form_factor_blue[30])"
      ],
      "metadata": {
        "colab": {
          "base_uri": "https://localhost:8080/"
        },
        "id": "zJPWXsC3YuWG",
        "outputId": "d2fa0aac-764d-4936-c3a2-23166e6de0ee"
      },
      "execution_count": null,
      "outputs": [
        {
          "output_type": "execute_result",
          "data": {
            "text/plain": [
              "array([0.00000000e+00, 9.05211365e-36, 9.18054574e-36, 9.50327817e-36,\n",
              "       9.68639014e-36, 1.02885511e-35, 1.03082903e-35, 1.07119592e-35,\n",
              "       1.12591475e-35, 1.14756822e-35, 1.14846802e-35, 1.15746203e-35,\n",
              "       1.19347090e-35, 1.19347091e-35, 1.20134638e-35, 1.21782785e-35,\n",
              "       1.26367369e-35, 1.29101419e-35, 1.29194587e-35, 1.30990715e-35,\n",
              "       1.31353807e-35, 1.32607994e-35, 1.32936116e-35, 1.33930694e-35,\n",
              "       1.39448313e-35, 1.45545240e-35, 1.49183707e-35, 1.52142322e-35,\n",
              "       1.61279851e-35, 1.61279852e-35, 1.62074822e-35, 1.65759902e-35,\n",
              "       1.66118743e-35, 1.69082361e-35, 1.69420169e-35, 1.71038638e-35,\n",
              "       1.75510584e-35, 1.76085870e-35, 1.79349438e-35, 1.83297580e-35,\n",
              "       1.85193821e-35, 1.86479840e-35, 1.99750288e-35, 2.02562966e-35,\n",
              "       2.05770635e-35, 2.06562467e-35, 2.21926423e-35, 2.29513634e-35,\n",
              "       2.29513635e-35, 2.35932911e-35, 2.38694199e-35, 2.38694259e-35,\n",
              "       2.38694401e-35, 2.41865296e-35, 2.42611933e-35, 2.43014176e-35,\n",
              "       2.53331084e-35, 2.61089880e-35, 2.61811158e-35, 2.68530954e-35,\n",
              "       2.71746647e-35, 2.72620346e-35, 2.84360371e-35, 2.90303758e-35,\n",
              "       2.90304024e-35, 2.98367433e-35, 2.98367754e-35, 3.13399315e-35,\n",
              "       3.18039060e-35, 3.31520017e-35, 3.51020848e-35, 3.51020853e-35,\n",
              "       3.51020892e-35, 3.67850232e-35, 3.67850660e-35, 3.72959701e-35,\n",
              "       3.72959780e-35, 3.74781491e-35, 3.92015979e-35, 3.99451000e-35,\n",
              "       4.19580071e-35, 4.29649525e-35, 4.29649578e-35, 4.40214732e-35,\n",
              "       4.40214820e-35, 4.59026851e-35, 4.59027744e-35, 5.96735432e-35,\n",
              "       5.96735444e-35, 5.96736106e-35, 6.03439728e-35, 6.03441076e-35,\n",
              "       6.16957903e-35, 6.26676599e-35, 6.63039609e-35, 6.63040139e-35,\n",
              "       6.71327346e-35, 7.45918725e-35, 7.89796914e-35, 7.89797977e-35,\n",
              "       8.26249351e-35, 8.26250211e-35, 9.03384047e-35, 9.64204326e-35,\n",
              "       1.00762067e-34, 1.07412279e-34, 1.19347019e-34, 1.19347081e-34,\n",
              "       1.19347086e-34, 1.27719808e-34, 1.30990694e-34, 1.49183793e-34,\n",
              "       1.49183912e-34, 1.85193606e-34, 1.85193754e-34, 2.06562106e-34,\n",
              "       2.06562335e-34, 2.68530887e-34, 2.98367665e-34, 2.98367697e-34,\n",
              "       3.15918676e-34, 5.96735203e-34, 5.96735330e-34, 5.96735648e-34,\n",
              "       6.71327282e-34, 1.07412355e-33, 1.07412403e-33, 2.68530956e-33,\n",
              "       1.00000000e+00])"
            ]
          },
          "metadata": {},
          "execution_count": 116
        }
      ]
    }
  ],
  "metadata": {
    "kernelspec": {
      "display_name": "Python 3.8.10 ('env': venv)",
      "language": "python",
      "name": "python3"
    },
    "language_info": {
      "codemirror_mode": {
        "name": "ipython",
        "version": 3
      },
      "file_extension": ".py",
      "mimetype": "text/x-python",
      "name": "python",
      "nbconvert_exporter": "python",
      "pygments_lexer": "ipython3",
      "version": "3.8.10"
    },
    "orig_nbformat": 4,
    "vscode": {
      "interpreter": {
        "hash": "965367c8d116fe9b4ded1122d983f43bb17c3f36d42199ea56a843f12a41085b"
      }
    },
    "colab": {
      "provenance": [],
      "collapsed_sections": []
    }
  },
  "nbformat": 4,
  "nbformat_minor": 0
}