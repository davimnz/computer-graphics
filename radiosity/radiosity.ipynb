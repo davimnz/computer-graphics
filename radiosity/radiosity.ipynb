{
 "cells": [
  {
   "cell_type": "code",
   "execution_count": 98,
   "metadata": {},
   "outputs": [],
   "source": [
    "import numpy as np\n",
    "\n",
    "from collada import Collada"
   ]
  },
  {
   "cell_type": "markdown",
   "metadata": {},
   "source": [
    "`triangle_area` evaluates the triangle area $A$ using Heron's formula:\n",
    "\n",
    "$$ A = \\sqrt{s (s-a) (s-b) (s-c)} \\ , $$\n",
    "where $s$ is the semi-perimeter, $a$ is the length of side a, $b$ is the length of side b, and $c$ is the length of side c."
   ]
  },
  {
   "cell_type": "code",
   "execution_count": 118,
   "metadata": {},
   "outputs": [],
   "source": [
    "def triangle_area(vertices):\n",
    "    \"\"\"\n",
    "    Returns the triangle's area.\n",
    "\n",
    "    :param vertices: the vertices of the triangle.\n",
    "    :type vertices: two-dimensional array.\n",
    "    :return: the triangle area.\n",
    "    :return type: float.\n",
    "    \"\"\"\n",
    "    a = np.linalg.norm(vertices[1] - vertices[0])\n",
    "    b = np.linalg.norm(vertices[2] - vertices[1])\n",
    "    c = np.linalg.norm(vertices[0] - vertices[2])\n",
    "    semiperimeter = (a + b + c) * 0.5\n",
    "    area = np.sqrt(semiperimeter * (semiperimeter - a) * (semiperimeter - b) * (semiperimeter - c))\n",
    "    return area"
   ]
  },
  {
   "cell_type": "markdown",
   "metadata": {},
   "source": [
    "`triangle_centroid` evaluates the centroid $C$ of the triangular face following\n",
    "\n",
    "$$C = \\frac{v_a + v_b + v_c}{3} \\ , $$\n",
    "where $v_a$, $v_b$, and $v_c$ are the triangle's vertices."
   ]
  },
  {
   "cell_type": "code",
   "execution_count": 104,
   "metadata": {},
   "outputs": [],
   "source": [
    "def triangle_centroid(vertices):\n",
    "    \"\"\"\n",
    "    Returns the triangle's centroid.\n",
    "\n",
    "    :param vertices: the vertices of the triangle.\n",
    "    :type vertices: two-dimensional array.\n",
    "    :return: the triangle's centroid.\n",
    "    :return type: one-dimensional array with 3 columns.\n",
    "    \"\"\"\n",
    "    centroid = (vertices[0] + vertices[1] + vertices[2]) / 3\n",
    "    return centroid"
   ]
  },
  {
   "cell_type": "markdown",
   "metadata": {},
   "source": [
    "`triangle_normal` evaluates the face normal of a triangle of vertices $v_a$, $v_b$, and $v_c$ following\n",
    "\n",
    "$$n = (v_b - v_a) \\times (v_c - v_a) \\ , $$\n",
    "where $\\times$ represents a cross product."
   ]
  },
  {
   "cell_type": "code",
   "execution_count": 108,
   "metadata": {},
   "outputs": [],
   "source": [
    "def triangle_normal(vertices):\n",
    "    \"\"\"\n",
    "    Returns the face normal of a triangle.\n",
    "\n",
    "    :param vertices: the vertices of the triangle.\n",
    "    :type vertices: two-dimensional array.\n",
    "    :return: the triangle's normal.\n",
    "    :return type: one-dimensional array with 3 columns.\n",
    "    \"\"\"\n",
    "    side_x = vertices[1] - vertices[0]\n",
    "    side_y = vertices[2] - vertices[0]\n",
    "    normal = np.cross(side_x, side_y)\n",
    "    return normal"
   ]
  },
  {
   "cell_type": "markdown",
   "metadata": {},
   "source": [
    "`triangle_plane` evaluates the plane defined by the three vertices of a triangle."
   ]
  },
  {
   "cell_type": "code",
   "execution_count": null,
   "metadata": {},
   "outputs": [],
   "source": [
    "def triangle_plane(vertices):\n",
    "    \"\"\"\n",
    "    Returns the plane defined by vertices.\n",
    "\n",
    "    :param vertices: the vertices of the triangle.\n",
    "    :type vertices: two-dimensional array.\n",
    "    :return: the triangle's plane.\n",
    "    :return type: one-dimensional array with 4 columns.\n",
    "    \"\"\"\n",
    "    pass"
   ]
  },
  {
   "cell_type": "markdown",
   "metadata": {},
   "source": [
    "`check_visibility` verifies if a plane still allow the two faces to see each other."
   ]
  },
  {
   "cell_type": "code",
   "execution_count": null,
   "metadata": {},
   "outputs": [],
   "source": [
    "def check_visibility(centroid_a, centroid_b, plane):\n",
    "    \"\"\"\n",
    "    Returns true if the plane still allow the two faces to see each other.\n",
    "\n",
    "    :param centroid_a: the centroid of face a.\n",
    "    :type centroid_a: one-dimensional array with three columns.\n",
    "    :param centroid_b: the centroid of face b.\n",
    "    :type centroid_b: one-dimensional array with three columns.\n",
    "    :param plane: the plane that may be between face a and face b.\n",
    "    :type plane: one-dimensional array with 4 columns.\n",
    "    :return: true if the two faces can see each other.\n",
    "    :return type: bool.\n",
    "    \"\"\"\n",
    "    pass"
   ]
  },
  {
   "cell_type": "markdown",
   "metadata": {},
   "source": [
    "Testing the previous functions."
   ]
  },
  {
   "cell_type": "code",
   "execution_count": 125,
   "metadata": {},
   "outputs": [],
   "source": [
    "vertices_test = np.array([[0, 0, 0], [1, 0, 0], [0, 1, 0]])\n",
    "vertices_test_area = triangle_area(vertices_test)\n",
    "vertices_test_centroid = triangle_centroid(vertices_test)\n",
    "vertices_test_normal = triangle_normal(vertices_test)\n",
    "assert(vertices_test_area - 0.5 < 1e-9)\n",
    "assert(np.linalg.norm(vertices_test_centroid - np.array([1 / 3, 1 / 3, 0])) < 1e-9)\n",
    "assert(np.linalg.norm(vertices_test_normal - np.array([0, 0, 1])) < 1e-9)"
   ]
  },
  {
   "cell_type": "markdown",
   "metadata": {},
   "source": [
    "Importing the scene COLLADA file using `pycollada` library."
   ]
  },
  {
   "cell_type": "code",
   "execution_count": 7,
   "metadata": {},
   "outputs": [],
   "source": [
    "mesh = Collada('data/scene.dae')"
   ]
  },
  {
   "cell_type": "code",
   "execution_count": 81,
   "metadata": {},
   "outputs": [
    {
     "data": {
      "text/plain": [
       "[<Triangle ([-0.5 -0.5  0.5], [-0.5  0.5 -0.5], [-0.5 -0.5 -0.5], \"None\")>,\n",
       " <Triangle ([-0.5  0.5  0.5], [ 0.5  0.5 -0.5], [-0.5  0.5 -0.5], \"None\")>,\n",
       " <Triangle ([0.5 0.5 0.5], [ 0.5 -0.5 -0.5], [ 0.5  0.5 -0.5], \"None\")>,\n",
       " <Triangle ([ 0.5 -0.5  0.5], [-0.5 -0.5 -0.5], [ 0.5 -0.5 -0.5], \"None\")>,\n",
       " <Triangle ([ 0.5  0.5 -0.5], [-0.5 -0.5 -0.5], [-0.5  0.5 -0.5], \"None\")>,\n",
       " <Triangle ([-0.5  0.5  0.5], [ 0.5 -0.5  0.5], [0.5 0.5 0.5], \"None\")>,\n",
       " <Triangle ([-0.5 -0.5  0.5], [-0.5  0.5  0.5], [-0.5  0.5 -0.5], \"None\")>,\n",
       " <Triangle ([-0.5  0.5  0.5], [0.5 0.5 0.5], [ 0.5  0.5 -0.5], \"None\")>,\n",
       " <Triangle ([0.5 0.5 0.5], [ 0.5 -0.5  0.5], [ 0.5 -0.5 -0.5], \"None\")>,\n",
       " <Triangle ([ 0.5 -0.5  0.5], [-0.5 -0.5  0.5], [-0.5 -0.5 -0.5], \"None\")>,\n",
       " <Triangle ([ 0.5  0.5 -0.5], [ 0.5 -0.5 -0.5], [-0.5 -0.5 -0.5], \"None\")>,\n",
       " <Triangle ([-0.5  0.5  0.5], [-0.5 -0.5  0.5], [ 0.5 -0.5  0.5], \"None\")>]"
      ]
     },
     "execution_count": 81,
     "metadata": {},
     "output_type": "execute_result"
    }
   ],
   "source": [
    "list(mesh.geometries[0].primitives[0])"
   ]
  },
  {
   "cell_type": "code",
   "execution_count": 128,
   "metadata": {},
   "outputs": [],
   "source": [
    "cylinder_geometry = mesh.geometries[2]\n",
    "cylinder_set = cylinder_geometry.primitives[0]\n",
    "triangles_list = list(cylinder_set)"
   ]
  },
  {
   "cell_type": "markdown",
   "metadata": {},
   "source": [
    "Get faces from geometry"
   ]
  },
  {
   "cell_type": "code",
   "execution_count": 94,
   "metadata": {},
   "outputs": [
    {
     "name": "stdout",
     "output_type": "stream",
     "text": [
      "[[0.        1.        1.       ]\n",
      " [0.8660255 0.5       0.725    ]\n",
      " [0.        1.        0.725    ]]\n"
     ]
    }
   ],
   "source": [
    "# 1. Vertex 2. Normal 3. Texture coordinate\n",
    "vertex = triangles_list[0].vertices\n",
    "print(vertex)"
   ]
  }
 ],
 "metadata": {
  "kernelspec": {
   "display_name": "Python 3.8.10 ('env': venv)",
   "language": "python",
   "name": "python3"
  },
  "language_info": {
   "codemirror_mode": {
    "name": "ipython",
    "version": 3
   },
   "file_extension": ".py",
   "mimetype": "text/x-python",
   "name": "python",
   "nbconvert_exporter": "python",
   "pygments_lexer": "ipython3",
   "version": "3.8.10"
  },
  "orig_nbformat": 4,
  "vscode": {
   "interpreter": {
    "hash": "965367c8d116fe9b4ded1122d983f43bb17c3f36d42199ea56a843f12a41085b"
   }
  }
 },
 "nbformat": 4,
 "nbformat_minor": 2
}
