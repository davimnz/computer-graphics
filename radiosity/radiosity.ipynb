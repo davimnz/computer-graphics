{
 "cells": [
  {
   "cell_type": "code",
   "execution_count": 1,
   "metadata": {},
   "outputs": [],
   "source": [
    "import numpy as np\n",
    "\n",
    "import xml.etree.ElementTree as ElementTree"
   ]
  },
  {
   "cell_type": "markdown",
   "metadata": {},
   "source": [
    "`triangle_area` evaluates the triangle area $A$ using Heron's formula:\n",
    "\n",
    "$$ A = \\sqrt{s (s-a) (s-b) (s-c)} \\ , $$\n",
    "where $s$ is the semi-perimeter, $a$ is the length of side a, $b$ is the length of side b, and $c$ is the length of side c."
   ]
  },
  {
   "cell_type": "code",
   "execution_count": 2,
   "metadata": {},
   "outputs": [],
   "source": [
    "def triangle_area(vertices):\n",
    "    \"\"\"\n",
    "    Returns the triangle's area.\n",
    "\n",
    "    :param vertices: the vertices of the triangle.\n",
    "    :type vertices: two-dimensional array.\n",
    "    :return: the triangle area.\n",
    "    :return type: float.\n",
    "    \"\"\"\n",
    "    a = np.linalg.norm(vertices[1] - vertices[0])\n",
    "    b = np.linalg.norm(vertices[2] - vertices[1])\n",
    "    c = np.linalg.norm(vertices[0] - vertices[2])\n",
    "    semiperimeter = (a + b + c) * 0.5\n",
    "    area = np.sqrt(semiperimeter * (semiperimeter - a) * (semiperimeter - b) * (semiperimeter - c))\n",
    "    return area"
   ]
  },
  {
   "cell_type": "markdown",
   "metadata": {},
   "source": [
    "`triangle_centroid` evaluates the centroid $C$ of the triangular face following\n",
    "\n",
    "$$C = \\frac{v_a + v_b + v_c}{3} \\ , $$\n",
    "where $v_a$, $v_b$, and $v_c$ are the triangle's vertices."
   ]
  },
  {
   "cell_type": "code",
   "execution_count": 3,
   "metadata": {},
   "outputs": [],
   "source": [
    "def triangle_centroid(vertices):\n",
    "    \"\"\"\n",
    "    Returns the triangle's centroid.\n",
    "\n",
    "    :param vertices: the vertices of the triangle.\n",
    "    :type vertices: two-dimensional array.\n",
    "    :return: the triangle's centroid.\n",
    "    :return type: one-dimensional array with 3 columns.\n",
    "    \"\"\"\n",
    "    centroid = (vertices[0] + vertices[1] + vertices[2]) / 3\n",
    "    return centroid"
   ]
  },
  {
   "cell_type": "markdown",
   "metadata": {},
   "source": [
    "`triangle_normal` evaluates the face normal of a triangle of vertices $v_a$, $v_b$, and $v_c$ following\n",
    "\n",
    "$$n = (v_b - v_a) \\times (v_c - v_a) \\ , $$\n",
    "where $\\times$ represents a cross product."
   ]
  },
  {
   "cell_type": "code",
   "execution_count": 4,
   "metadata": {},
   "outputs": [],
   "source": [
    "def triangle_normal(vertices):\n",
    "    \"\"\"\n",
    "    Returns the face normal of a triangle.\n",
    "\n",
    "    :param vertices: the vertices of the triangle.\n",
    "    :type vertices: two-dimensional array.\n",
    "    :return: the triangle's normal.\n",
    "    :return type: one-dimensional array with 3 columns.\n",
    "    \"\"\"\n",
    "    side_x = vertices[1] - vertices[0]\n",
    "    side_y = vertices[2] - vertices[0]\n",
    "    normal = np.cross(side_x, side_y)\n",
    "    return normal"
   ]
  },
  {
   "cell_type": "markdown",
   "metadata": {},
   "source": [
    "`check_visibility` verifies if a plane still allow the two faces to see each other."
   ]
  },
  {
   "cell_type": "code",
   "execution_count": 5,
   "metadata": {},
   "outputs": [],
   "source": [
    "def check_visibility(centroid_a, centroid_b, vertices_c):\n",
    "    \"\"\"\n",
    "    Returns true if the plane still allow the two faces to see each other.\n",
    "\n",
    "    :param centroid_a: the centroid of face a.\n",
    "    :type centroid_a: numpy array.\n",
    "    :param centroid_b: the centroid of face b.\n",
    "    :type centroid_b: numpy array.\n",
    "    :param vertices_c: the vertices of the triangle that may be between face a and face b.\n",
    "    :type vertices_c: numpy array.\n",
    "    :return: true if the two faces can see each other.\n",
    "    :return type: bool.\n",
    "    \"\"\"\n",
    "    b = centroid_b - vertices_c[2]\n",
    "    a = np.array([vertices_c[1] - vertices_c[2], vertices_c[0] - vertices_c[2], centroid_b - centroid_a]).transpose()\n",
    "    \n",
    "    if np.linalg.det(a) == 0:\n",
    "        return True\n",
    "    \n",
    "    x = np.linalg.solve(a, b)\n",
    "\n",
    "    inside_centroid_line = False\n",
    "    if x[2] >= 0 and x[2] <= 1:\n",
    "        inside_centroid_line = True\n",
    "\n",
    "    inside_triangle = False\n",
    "    if x[0] + x[1] <= 1 and x[0] >= 0 and x[1] >= 0:\n",
    "        inside_triangle = True\n",
    "\n",
    "    if inside_triangle and inside_centroid_line:\n",
    "        return False\n",
    "\n",
    "    return True"
   ]
  },
  {
   "cell_type": "markdown",
   "metadata": {},
   "source": [
    "Testing the previous functions."
   ]
  },
  {
   "cell_type": "code",
   "execution_count": 6,
   "metadata": {},
   "outputs": [],
   "source": [
    "vertices_test = np.array([[0, 0, 0], [1, 0, 0], [0, 1, 0]])\n",
    "vertices_test_area = triangle_area(vertices_test)\n",
    "vertices_test_centroid = triangle_centroid(vertices_test)\n",
    "vertices_test_normal = triangle_normal(vertices_test)\n",
    "assert(vertices_test_area - 0.5 < 1e-9)\n",
    "assert(np.linalg.norm(vertices_test_centroid - np.array([1 / 3, 1 / 3, 0])) < 1e-9)\n",
    "assert(np.linalg.norm(vertices_test_normal - np.array([0, 0, 1])) < 1e-9)"
   ]
  },
  {
   "cell_type": "code",
   "execution_count": 7,
   "metadata": {},
   "outputs": [],
   "source": [
    "centroid_a = np.array([2 / 3, 2 / 3, 0])\n",
    "centroid_b = np.array([2 / 3, 2 / 3, 1])\n",
    "vertices_c1 = np.array([[1, 0, 1], [1, 1, 0], [0, 1, 1]])\n",
    "vertices_c2 = np.array([[1 / 3, 2 / 3, 1], [0, 0, 1], [0, 1, 1]])\n",
    "assert(check_visibility(centroid_a, centroid_b, vertices_c1) == False)\n",
    "assert(check_visibility(centroid_a, centroid_b, vertices_c2) == True)"
   ]
  },
  {
   "cell_type": "markdown",
   "metadata": {},
   "source": [
    "Classes definition."
   ]
  },
  {
   "cell_type": "code",
   "execution_count": 8,
   "metadata": {},
   "outputs": [],
   "source": [
    "class Solid(object):\n",
    "    \"\"\"\n",
    "    Represents a 3D solid.\n",
    "    \"\"\"\n",
    "\n",
    "    def __init__(self, faces, id):\n",
    "        \"\"\"\n",
    "        Creates a new 3 dimensional solid.        \n",
    "        \n",
    "        :param faces: the triangular faces of the solid.\n",
    "        :type faces: TriangularFace.\n",
    "        :param id: the solid's id.\n",
    "        :type id: string.\n",
    "        \"\"\"\n",
    "        self.faces = faces\n",
    "        self.id = id"
   ]
  },
  {
   "cell_type": "code",
   "execution_count": 9,
   "metadata": {},
   "outputs": [],
   "source": [
    "class TriangularFace(object):\n",
    "    \"\"\"\n",
    "    Represents a triangular face.\n",
    "    \"\"\"\n",
    "\n",
    "    def __init__(self, vertices, colors, light_source=0):\n",
    "        \"\"\"\n",
    "        Creates a new triangular face.\n",
    "\n",
    "        :param vertices: the triangle's vertices.\n",
    "        :type vertices: numpy array.\n",
    "        :param colors: the color of each vertice.\n",
    "        :type colors: numpy array.\n",
    "        :param light_source: if the face is a light source.\n",
    "        :type light_source: int {0, 1}.\n",
    "        \"\"\"\n",
    "        self.vertices = vertices\n",
    "        self.colors = colors\n",
    "        self.rho = np.sum(self.colors, axis=0) / len(self.colors)\n",
    "        self.area = triangle_area(self.vertices)\n",
    "        self.centroid = triangle_centroid(self.vertices)\n",
    "        self.normal = triangle_normal(self.vertices)\n",
    "        self.light_source = light_source"
   ]
  },
  {
   "cell_type": "markdown",
   "metadata": {},
   "source": [
    "`form_factor` evaluates the form factor of faces $i$ and $j$ following\n",
    "\n",
    "$$F_{i, j} = \\frac{A_j \\cos{\\theta_i} \\cos{\\theta_j}}{\\pi r^{2}} \\ , $$\n",
    "where $r$ is the distance between the faces centroid, $A_j$ is the area of face $j$, $\\theta_i$ is the angle between the centroid line and the face $i$ normal, and $\\theta_j$ is the angle between the centroid line and the face $j$ normal. "
   ]
  },
  {
   "cell_type": "code",
   "execution_count": 10,
   "metadata": {},
   "outputs": [],
   "source": [
    "def form_factor(face_i, face_j, scene_faces):\n",
    "    \"\"\"\n",
    "    Evaluates the form factor of faces i and j, Fij.\n",
    "\n",
    "    :param face_i: the face i of the scene.\n",
    "    :type face_i: TriangularFace.\n",
    "    :param face_j: the face j of the scene.\n",
    "    :type face_j: TriangularFace.\n",
    "    :param scene_faces: all the faces in the scene.\n",
    "    :type scene_faces: list of TriangularFace.\n",
    "    \"\"\"\n",
    "    # Since we have convex solid, then Fii is always zero\n",
    "    if face_i == face_j:\n",
    "        return 0\n",
    "\n",
    "    if scene_faces is not None:\n",
    "        for face in scene_faces:\n",
    "            if face == face_i or face == face_j:\n",
    "                continue\n",
    "\n",
    "            is_visible = check_visibility(face_i.centroid, face_j.centroid, face.vertices)\n",
    "            if not is_visible:\n",
    "                form_factor = 0\n",
    "                return form_factor\n",
    "\n",
    "    centroid_line = face_i.centroid - face_j.centroid\n",
    "    centroid_line_unit = centroid_line / np.linalg.norm(centroid_line)\n",
    "    normal_i_unit = face_i.normal / np.linalg.norm(face_i.normal)\n",
    "    normal_j_unit = face_j.normal / np.linalg.norm(face_j.normal)    \n",
    "    theta_i = np.arccos(np.clip(np.dot(normal_i_unit, -centroid_line_unit), -1.0, 1.0))\n",
    "    theta_j = np.arccos(np.clip(np.dot(normal_j_unit, centroid_line_unit), -1.0, 1.0))\n",
    "\n",
    "    # The faces cannot see each other\n",
    "    if theta_i > np.pi * 0.5 or theta_j > np.pi * 0.5:\n",
    "        form_factor = 0\n",
    "        return form_factor\n",
    "\n",
    "    r = np.linalg.norm(centroid_line)\n",
    "    area_j = face_j.area\n",
    "    form_factor = (area_j * np.cos(theta_i) * np.cos(theta_j)) / (np.pi * r**2)\n",
    "    return form_factor"
   ]
  },
  {
   "cell_type": "markdown",
   "metadata": {},
   "source": [
    "Testing the previous function."
   ]
  },
  {
   "cell_type": "code",
   "execution_count": 11,
   "metadata": {},
   "outputs": [],
   "source": [
    "vertices_i = np.array([[1, 0, 1], [1, 1, 0], [0, 0, 0]])\n",
    "vertices_j = np.array([[0, 0, 1], [0, 1, 0], [0, 1, 1]])\n",
    "colors = np.array([[1, 1, 1, 1], [1, 1, 1, 1], [1, 1, 1, 1], [1, 1, 1, 1]])\n",
    "face_i = TriangularFace(vertices_i, colors)\n",
    "face_j = TriangularFace(vertices_j, colors)\n",
    "assert(form_factor(face_i, face_j, None) - 0.1837 < 1e-4)"
   ]
  },
  {
   "cell_type": "code",
   "execution_count": 12,
   "metadata": {},
   "outputs": [],
   "source": [
    "vertices_i = np.array([[0, 0, 0], [1, 0, 0], [0, 1, 0]])\n",
    "vertices_j = np.array([[0, 0, 1], [1, 0, 1], [0, 1, 1]])\n",
    "colors = np.array([[1, 1, 1, 1], [1, 1, 1, 1], [1, 1, 1, 1], [1, 1, 1, 1]])\n",
    "face_i = TriangularFace(vertices_i, colors)\n",
    "face_j = TriangularFace(vertices_j, colors)\n",
    "assert(form_factor(face_i, face_j, None) == 0)"
   ]
  },
  {
   "cell_type": "code",
   "execution_count": 13,
   "metadata": {},
   "outputs": [],
   "source": [
    "vertices_i = np.array([[0, 0, 0], [1, 0, 0], [0, 1, 0]])\n",
    "vertices_j = np.array([[1, 0, 1], [0, 0, 1], [0, 1, 1]])\n",
    "colors = np.array([[1, 1, 1, 1], [1, 1, 1, 1], [1, 1, 1, 1], [1, 1, 1, 1]])\n",
    "face_i = TriangularFace(vertices_i, colors)\n",
    "face_j = TriangularFace(vertices_j, colors)\n",
    "assert(form_factor(face_i, face_j, None) - (1 / (2*np.pi)) < 1e-4)"
   ]
  },
  {
   "cell_type": "markdown",
   "metadata": {},
   "source": [
    "Parsing the COLLADA file with standard Python library to parse xml."
   ]
  },
  {
   "cell_type": "code",
   "execution_count": 14,
   "metadata": {},
   "outputs": [],
   "source": [
    "tree = ElementTree.parse('data/scene.dae')\n",
    "root = tree.getroot()"
   ]
  },
  {
   "cell_type": "markdown",
   "metadata": {},
   "source": [
    "Finding the library geometries and the library visual scene sections."
   ]
  },
  {
   "cell_type": "code",
   "execution_count": 22,
   "metadata": {},
   "outputs": [],
   "source": [
    "index = 0\n",
    "for child in root:\n",
    "    if \"library_geometries\" in child.tag:\n",
    "        library_geometries_index = index\n",
    "\n",
    "    if \"library_visual_scenes\" in child.tag:\n",
    "        library_visual_scenes_index = index\n",
    "\n",
    "    index += 1\n",
    "library_geometries = root[library_geometries_index]\n",
    "library_visual_scenes = root[library_visual_scenes_index]"
   ]
  },
  {
   "cell_type": "markdown",
   "metadata": {},
   "source": [
    "Get transform matrix based on data of Library Visual Scene."
   ]
  },
  {
   "cell_type": "code",
   "execution_count": 49,
   "metadata": {},
   "outputs": [
    {
     "name": "stdout",
     "output_type": "stream",
     "text": [
      "{'LightObject-mesh': array([[1. , 0. , 0. , 0. ],\n",
      "       [0. , 1. , 0. , 0. ],\n",
      "       [0. , 0. , 1. , 3.5],\n",
      "       [0. , 0. , 0. , 1. ]]), 'TableObject-mesh': array([[ 0.7071068,  0.5      ,  0.5      ,  1.5      ],\n",
      "       [ 0.       ,  0.7071068, -0.7071068,  0.       ],\n",
      "       [-0.7071068,  0.5      ,  0.5      ,  0.42     ],\n",
      "       [ 0.       ,  0.       ,  0.       ,  1.       ]]), 'Table-mesh': array([[ 1. ,  0. ,  0. ,  1.5],\n",
      "       [ 0. ,  1. ,  0. ,  0. ],\n",
      "       [ 0. ,  0. ,  1. , -1. ],\n",
      "       [ 0. ,  0. ,  0. ,  1. ]]), 'Wall-mesh': array([[3., 0., 0., 0.],\n",
      "       [0., 3., 0., 0.],\n",
      "       [0., 0., 3., 1.],\n",
      "       [0., 0., 0., 1.]])}\n"
     ]
    }
   ],
   "source": [
    "transform_matrix = {}\n",
    "for child in library_visual_scenes[0]:\n",
    "    for scene_child in child:\n",
    "        if \"sid\" in list(scene_child.attrib.keys()):\n",
    "            matrix = np.array(scene_child.text.split(\" \")).reshape((4, 4)).astype(np.float64)\n",
    "        \n",
    "        if \"url\" in list(scene_child.attrib.keys()):\n",
    "            mesh_name = scene_child.attrib[\"url\"].replace(\"#\", \"\")\n",
    "            transform_matrix[mesh_name] = matrix\n",
    "print(transform_matrix)"
   ]
  },
  {
   "cell_type": "markdown",
   "metadata": {},
   "source": [
    "Create Solid objects based on COLLADA data."
   ]
  },
  {
   "cell_type": "code",
   "execution_count": 61,
   "metadata": {},
   "outputs": [],
   "source": [
    "solid_scene = []\n",
    "for child in library_geometries:\n",
    "    id = child.attrib[\"id\"]\n",
    "\n",
    "    if id == \"LightObject-mesh\":\n",
    "        light_source = True\n",
    "    else:\n",
    "        light_source = False\n",
    "\n",
    "    mesh_positions = None\n",
    "    mesh_colors = None\n",
    "    mesh_material = None\n",
    "    for child_geometry in child[0]:\n",
    "        if \"id\" in list(child_geometry.attrib.keys()):\n",
    "            if \"mesh-positions\" in child_geometry.attrib[\"id\"]:\n",
    "                mesh_positions = child_geometry\n",
    "            elif \"mesh-colors-Color\" in child_geometry.attrib[\"id\"]:\n",
    "                mesh_colors = child_geometry\n",
    "        elif \"material\" in list(child_geometry.attrib.keys()):\n",
    "            mesh_material = child_geometry\n",
    "\n",
    "    vertices_array = np.empty((0, 3), np.float64)\n",
    "    if mesh_positions is not None:\n",
    "        for child_mesh_positions in mesh_positions:\n",
    "            if \"id\" in list(child_mesh_positions.attrib.keys()):\n",
    "                if \"mesh-positions-array\" in child_mesh_positions.attrib[\"id\"]:\n",
    "                    values = child_mesh_positions.text.split(\" \")\n",
    "                    number_of_values = len(values)\n",
    "                    number_of_vertices = number_of_values // 3\n",
    "                    for i in range(number_of_vertices):\n",
    "                        x_coordinate = float(values[i * 3])\n",
    "                        y_coordinate = float(values[i * 3 + 1])\n",
    "                        z_coordinate = float(values[i * 3 + 2])\n",
    "                        coordinate = np.array([x_coordinate, y_coordinate, z_coordinate, 1])\n",
    "                        coordinate_world = transform_matrix[id] @ coordinate\n",
    "                        coordinate_world = coordinate_world[:3]\n",
    "                        vertices_array = np.append(vertices_array, np.array([[x_coordinate, y_coordinate, z_coordinate]]), axis=0)\n",
    "\n",
    "    face_colors_array = np.empty((0, 4), np.float64)\n",
    "    if mesh_colors is not None:\n",
    "        for child_mesh_colors in mesh_colors:\n",
    "            if \"id\" in list(child_mesh_colors.attrib.keys()):\n",
    "                if \"mesh-colors-Color-array\" in child_mesh_colors.attrib[\"id\"]:\n",
    "                    values = child_mesh_colors.text.split(\" \")\n",
    "                    number_of_values = len(values)\n",
    "                    number_of_faces = number_of_values // 12\n",
    "                    for i in range(number_of_faces):\n",
    "                        face_color = np.empty((0, 4), np.float64)\n",
    "                        for j in range(3):\n",
    "                            red = float(values[i * 4])\n",
    "                            green = float(values[i * 4 + 1])\n",
    "                            blue = float(values[i * 4 + 2])\n",
    "                            alpha = float(values[i * 4 + 3])\n",
    "                            face_color = np.append(face_color, np.array([[red, green, blue, alpha]]), axis=0)\n",
    "                        face_colors_array = np.append(face_colors_array, face_color, axis=0)\n",
    "\n",
    "    if mesh_material is not None:\n",
    "        number_of_triangles = int(mesh_material.attrib[\"count\"])\n",
    "        step = 0\n",
    "        for child_mesh_material in mesh_material:\n",
    "            if len(list(child_mesh_material.keys())) == 0:\n",
    "                faces_definition = child_mesh_material.text.split(\" \")\n",
    "                faces_list = []\n",
    "                for i in range(number_of_triangles):\n",
    "                    index_vertice_a = int(faces_definition[i * 3 * step])\n",
    "                    index_vertice_b = int(faces_definition[i * 3 * step + step])\n",
    "                    index_vertice_c = int(faces_definition[i * 3 * step + 2 * step])\n",
    "\n",
    "                    # To Do: change this to None after new .dae file\n",
    "                    color_a = [0, 0, 0, 1]\n",
    "                    color_b = [0, 0, 0, 1]\n",
    "                    color_c = [0, 0, 0, 1]\n",
    "                    if len(face_colors_array) != 0:\n",
    "                        index_color_a = int(faces_definition[i * 3 * step + step - 1])\n",
    "                        index_color_b = int(faces_definition[i * 3 * step + 2 * step - 1])\n",
    "                        index_color_c = int(faces_definition[i * 3 * step + 3 * step - 1])\n",
    "\n",
    "                        color_a = face_colors_array[index_color_a]\n",
    "                        color_b = face_colors_array[index_color_b]\n",
    "                        color_c = face_colors_array[index_color_c]\n",
    "\n",
    "                    vertice_a = vertices_array[index_vertice_a]\n",
    "                    vertice_b = vertices_array[index_vertice_b]\n",
    "                    vertice_c = vertices_array[index_vertice_c]\n",
    "\n",
    "                    vertices_face = np.array([vertice_a, vertice_b, vertice_c])\n",
    "                    colors_face = np.array([[color_a], [color_b], [color_c]])\n",
    "                    face = TriangularFace(vertices_face, colors_face, light_source)\n",
    "                    faces_list.append(face)\n",
    "            step += 1\n",
    "\n",
    "        solid = Solid(faces_list, id)\n",
    "        solid_scene.append(solid)"
   ]
  },
  {
   "cell_type": "markdown",
   "metadata": {},
   "source": [
    "Evaluating the form factors $F_{ij}$."
   ]
  },
  {
   "cell_type": "code",
   "execution_count": 72,
   "metadata": {},
   "outputs": [
    {
     "name": "stdout",
     "output_type": "stream",
     "text": [
      "1 / 2093\r"
     ]
    },
    {
     "ename": "KeyboardInterrupt",
     "evalue": "",
     "output_type": "error",
     "traceback": [
      "\u001b[0;31m---------------------------------------------------------------------------\u001b[0m",
      "\u001b[0;31mKeyboardInterrupt\u001b[0m                         Traceback (most recent call last)",
      "Cell \u001b[0;32mIn [72], line 14\u001b[0m\n\u001b[1;32m     12\u001b[0m form_factor_i \u001b[38;5;241m=\u001b[39m np\u001b[38;5;241m.\u001b[39marray([])\n\u001b[1;32m     13\u001b[0m \u001b[38;5;28;01mfor\u001b[39;00m j \u001b[38;5;129;01min\u001b[39;00m \u001b[38;5;28mrange\u001b[39m(\u001b[38;5;28mlen\u001b[39m(scene_faces)):\n\u001b[0;32m---> 14\u001b[0m     form_factor_i \u001b[38;5;241m=\u001b[39m np\u001b[38;5;241m.\u001b[39mappend(form_factor_i, np\u001b[38;5;241m.\u001b[39marray([form_factor(scene_faces[i], scene_faces[j], scene_faces)]))\n\u001b[1;32m     15\u001b[0m form_factor_red \u001b[38;5;241m=\u001b[39m np\u001b[38;5;241m.\u001b[39mappend(form_factor_red, (\u001b[38;5;241m-\u001b[39mscene_faces[i]\u001b[38;5;241m.\u001b[39mrho[\u001b[38;5;241m0\u001b[39m][\u001b[38;5;241m0\u001b[39m]) \u001b[38;5;241m*\u001b[39m form_factor_i)\n\u001b[1;32m     16\u001b[0m form_factor_green \u001b[38;5;241m=\u001b[39m np\u001b[38;5;241m.\u001b[39mappend(form_factor_green, (\u001b[38;5;241m-\u001b[39mscene_faces[i]\u001b[38;5;241m.\u001b[39mrho[\u001b[38;5;241m0\u001b[39m][\u001b[38;5;241m1\u001b[39m]) \u001b[38;5;241m*\u001b[39m form_factor_i)\n",
      "Cell \u001b[0;32mIn [10], line 21\u001b[0m, in \u001b[0;36mform_factor\u001b[0;34m(face_i, face_j, scene_faces)\u001b[0m\n\u001b[1;32m     18\u001b[0m \u001b[38;5;28;01mif\u001b[39;00m face \u001b[38;5;241m==\u001b[39m face_i \u001b[38;5;129;01mor\u001b[39;00m face \u001b[38;5;241m==\u001b[39m face_j:\n\u001b[1;32m     19\u001b[0m     \u001b[38;5;28;01mcontinue\u001b[39;00m\n\u001b[0;32m---> 21\u001b[0m is_visible \u001b[38;5;241m=\u001b[39m \u001b[43mcheck_visibility\u001b[49m\u001b[43m(\u001b[49m\u001b[43mface_i\u001b[49m\u001b[38;5;241;43m.\u001b[39;49m\u001b[43mcentroid\u001b[49m\u001b[43m,\u001b[49m\u001b[43m \u001b[49m\u001b[43mface_j\u001b[49m\u001b[38;5;241;43m.\u001b[39;49m\u001b[43mcentroid\u001b[49m\u001b[43m,\u001b[49m\u001b[43m \u001b[49m\u001b[43mface\u001b[49m\u001b[38;5;241;43m.\u001b[39;49m\u001b[43mvertices\u001b[49m\u001b[43m)\u001b[49m\n\u001b[1;32m     22\u001b[0m \u001b[38;5;28;01mif\u001b[39;00m \u001b[38;5;129;01mnot\u001b[39;00m is_visible:\n\u001b[1;32m     23\u001b[0m     form_factor \u001b[38;5;241m=\u001b[39m \u001b[38;5;241m0\u001b[39m\n",
      "Cell \u001b[0;32mIn [5], line 27\u001b[0m, in \u001b[0;36mcheck_visibility\u001b[0;34m(centroid_a, centroid_b, vertices_c)\u001b[0m\n\u001b[1;32m     24\u001b[0m     inside_centroid_line \u001b[38;5;241m=\u001b[39m \u001b[38;5;28;01mTrue\u001b[39;00m\n\u001b[1;32m     26\u001b[0m inside_triangle \u001b[38;5;241m=\u001b[39m \u001b[38;5;28;01mFalse\u001b[39;00m\n\u001b[0;32m---> 27\u001b[0m \u001b[38;5;28;01mif\u001b[39;00m \u001b[43mx\u001b[49m\u001b[43m[\u001b[49m\u001b[38;5;241;43m0\u001b[39;49m\u001b[43m]\u001b[49m \u001b[38;5;241m+\u001b[39m x[\u001b[38;5;241m1\u001b[39m] \u001b[38;5;241m<\u001b[39m\u001b[38;5;241m=\u001b[39m \u001b[38;5;241m1\u001b[39m \u001b[38;5;129;01mand\u001b[39;00m x[\u001b[38;5;241m0\u001b[39m] \u001b[38;5;241m>\u001b[39m\u001b[38;5;241m=\u001b[39m \u001b[38;5;241m0\u001b[39m \u001b[38;5;129;01mand\u001b[39;00m x[\u001b[38;5;241m1\u001b[39m] \u001b[38;5;241m>\u001b[39m\u001b[38;5;241m=\u001b[39m \u001b[38;5;241m0\u001b[39m:\n\u001b[1;32m     28\u001b[0m     inside_triangle \u001b[38;5;241m=\u001b[39m \u001b[38;5;28;01mTrue\u001b[39;00m\n\u001b[1;32m     30\u001b[0m \u001b[38;5;28;01mif\u001b[39;00m inside_triangle \u001b[38;5;129;01mand\u001b[39;00m inside_centroid_line:\n",
      "\u001b[0;31mKeyboardInterrupt\u001b[0m: "
     ]
    }
   ],
   "source": [
    "scene_faces = []\n",
    "for solid in solid_scene:\n",
    "    scene_faces = [*scene_faces, *solid.faces]\n",
    "\n",
    "emission_vector = np.array([])\n",
    "form_factor_common = np.array([])\n",
    "form_factor_red = np.array([])\n",
    "form_factor_green = np.array([])\n",
    "form_factor_blue = np.array([])\n",
    "for i in range(len(scene_faces)):\n",
    "    print(f\"{i} / {len(scene_faces) - 1}\", end=\"\\r\")\n",
    "    form_factor_i = np.array([])\n",
    "    for j in range(len(scene_faces)):\n",
    "        form_factor_i = np.append(form_factor_i, np.array([form_factor(scene_faces[i], scene_faces[j], scene_faces)]))\n",
    "    form_factor_red = np.append(form_factor_red, (-scene_faces[i].rho[0][0]) * form_factor_i)\n",
    "    form_factor_green = np.append(form_factor_green, (-scene_faces[i].rho[0][1]) * form_factor_i)\n",
    "    form_factor_blue = np.append(form_factor_blue, (-scene_faces[i].rho[0][2]) * form_factor_i)\n",
    "    emission_vector = np.append(emission_vector, int(scene_faces[i].light_source))\n",
    "\n",
    "form_factor_red = np.identity(len(form_factor_i)) - form_factor_red.reshape((len(form_factor_i), len(form_factor_i)))\n",
    "form_factor_green = np.identity(len(form_factor_i)) - form_factor_green.reshape((len(form_factor_i), len(form_factor_i)))\n",
    "form_factor_blue = np.identity(len(form_factor_i)) - form_factor_blue.reshape((len(form_factor_i), len(form_factor_i)))"
   ]
  }
 ],
 "metadata": {
  "kernelspec": {
   "display_name": "Python 3.8.10 ('env': venv)",
   "language": "python",
   "name": "python3"
  },
  "language_info": {
   "codemirror_mode": {
    "name": "ipython",
    "version": 3
   },
   "file_extension": ".py",
   "mimetype": "text/x-python",
   "name": "python",
   "nbconvert_exporter": "python",
   "pygments_lexer": "ipython3",
   "version": "3.8.10"
  },
  "orig_nbformat": 4,
  "vscode": {
   "interpreter": {
    "hash": "965367c8d116fe9b4ded1122d983f43bb17c3f36d42199ea56a843f12a41085b"
   }
  }
 },
 "nbformat": 4,
 "nbformat_minor": 2
}
